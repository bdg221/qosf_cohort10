{
 "cells": [
  {
   "cell_type": "markdown",
   "metadata": {},
   "source": [
    "# Task 1 QOSF Mentorship Program\n",
    "Task 1 consisted of 2 sections and a 3rd bonus section. The first section utilizes a statevector and the Kronecker product to simulate X, H, and CNOT gates on up to 15 qubits. The second section is similar but uses a tensor to represent the quantum state along with the tesnor dot product on specific axes to simulate X, H, and CNOT gates on up to 31 qubits. The bonus section answers some additional questions."
   ]
  },
  {
   "cell_type": "markdown",
   "metadata": {},
   "source": [
    "## Statevector\n",
    "\n",
    "In this section, the code below uses a statevector while initializing qubits and performing X, H, and CNOT gates. The functionality is split into multiple components and error handling is included. Example printouts are provided during the process as evidence of the expected results."
   ]
  },
  {
   "cell_type": "code",
   "execution_count": 1,
   "metadata": {},
   "outputs": [],
   "source": [
    "import numpy as np\n",
    "import time\n",
    "import matplotlib.pyplot as plt"
   ]
  },
  {
   "cell_type": "markdown",
   "metadata": {},
   "source": [
    "After doing the necessary imports, the I, X, H, CNOT, P0, and P1 matrices are implemented as global variables."
   ]
  },
  {
   "cell_type": "code",
   "execution_count": 2,
   "metadata": {},
   "outputs": [],
   "source": [
    "I = np.array([[1, 0],[0,1]])\n",
    "X = np.array([[0,1],[1,0]])\n",
    "H = (1/(np.sqrt(2))) * np.array([[1,1], [1, -1]])\n",
    "CNOT = np.array([[1, 0, 0, 0],[0, 1, 0, 0], [0, 0, 0, 1], [0, 0, 1, 0]])\n",
    "\n",
    "# Projector matrices for CNOTs\n",
    "P0 = np.array([[1, 0],[0,0]])\n",
    "P1 = np.array([[0, 0],[0,1]])"
   ]
  },
  {
   "cell_type": "markdown",
   "metadata": {},
   "source": [
    "In order to initialize the statevector, the number of qubits are passed in and statevector is created with a default value of zero."
   ]
  },
  {
   "cell_type": "code",
   "execution_count": 3,
   "metadata": {},
   "outputs": [],
   "source": [
    "def init_sv(num_qubits: int) -> np.array:\n",
    "    \"\"\"Initialize the state vector and set the value to zero\"\"\"\n",
    "    sv = np.zeros(2**num_qubits)\n",
    "    # init state vector to 0\n",
    "    sv[0] = 1\n",
    "    return sv"
   ]
  },
  {
   "cell_type": "markdown",
   "metadata": {},
   "source": [
    "Next, a generic operation function is called passing in a pre-defined X, H, or CNOT operation matrix, the qubit(s) to operate on, and the current statevector. The function does some basic error handling ensuring that the qubit(s) being acted on is(are) valid. The CNOT operation is handled as a special case to ensure both scenarios of a control being zero and a control being one are handled appropriately, as well as the P0 and P1 operations being used along with X. The Kronecker product is used to generate the operation matrices. The dot product of the operation matrices and the statevector transposed produces the new statevector."
   ]
  },
  {
   "cell_type": "code",
   "execution_count": 4,
   "metadata": {},
   "outputs": [],
   "source": [
    "def operate_on_sv(operation, qubits, statevector: np.array) -> np.array:\n",
    "    \"\"\"Performs the operation on the statevector \n",
    "\n",
    "    Args:\n",
    "        operation: Operation to perform\n",
    "        qubits: an int or list of ints representing the qubits to be acted on\n",
    "        statevector: current statevector\n",
    "\n",
    "    Returns:\n",
    "        The new statevector after the operation\n",
    "    \"\"\"\n",
    "    qubits = [qubits] if isinstance(qubits, int) else qubits\n",
    "\n",
    "    total_number_qubits = int(np.log2(len(statevector)))\n",
    "\n",
    "    # Handle error cases\n",
    "    if len(qubits) > 2:\n",
    "        raise AttributeError(\"qubits can contain at max 2 values\")\n",
    "    elif(len(qubits) == 2 and not np.array_equal(operation, CNOT)):\n",
    "        raise AttributeError(\"only 2 qubit gate is CNOT\")\n",
    "    elif(not all(q in range(1, total_number_qubits+1) for q in qubits)):\n",
    "        raise AttributeError(\"Qubits to act upon are not valid. If an operation acts upon a \\\n",
    "                             single qubit please enter an integer. If the operation acts on \\\n",
    "                             two qubit, include a list of integers with the first integer \\\n",
    "                             being the control and the second integer being the target.\")\n",
    "\n",
    "    # Handle CNOT case\n",
    "    elif(len(qubits) == 2):\n",
    "        control_is_zero = []\n",
    "        control_is_one = []\n",
    "        for i in range(1, total_number_qubits+1):\n",
    "            # control qubit\n",
    "            if i == qubits[0]:\n",
    "                control_is_zero.append(P0)\n",
    "                control_is_one.append(P1)\n",
    "            # target qubit\n",
    "            elif i == qubits[1]:\n",
    "                control_is_zero.append(I)\n",
    "                control_is_one.append(X)\n",
    "            else:\n",
    "                control_is_zero.append(I)\n",
    "                control_is_one.append(I)\n",
    "        \n",
    "        # Control is zero Kronecker product\n",
    "        control_zero_matrix = np.kron(control_is_zero[0], control_is_zero[1])\n",
    "        for i in range(2, total_number_qubits):\n",
    "            control_zero_matrix = np.kron(control_zero_matrix, control_is_zero[i])\n",
    "\n",
    "        # Control is one Kronecker product\n",
    "        control_one_matrix = np.kron(control_is_one[0], control_is_one[1])\n",
    "        for i in range(2, total_number_qubits):\n",
    "            control_one_matrix = np.kron(control_one_matrix, control_is_one[i])\n",
    "\n",
    "        return np.dot(np.add(control_zero_matrix, control_one_matrix), np.conjugate(statevector.transpose()))\n",
    "    \n",
    "    # Handle single qubit operations\n",
    "    else:\n",
    "        operation_krons = []\n",
    "        for i in range(1, total_number_qubits+1):\n",
    "            # operation qubit\n",
    "            if i == qubits[0]:\n",
    "                operation_krons.append(operation)\n",
    "            else:\n",
    "                operation_krons.append(I)\n",
    "\n",
    "        # piece together the Kronecker product\n",
    "        operation_matrix = np.kron(operation_krons[0], operation_krons[1])\n",
    "        for i in range(2, total_number_qubits):\n",
    "            operation_matrix = np.kron(operation_matrix, operation_krons[i])\n",
    "\n",
    "        return np.dot(operation_matrix, np.conjugate(statevector.transpose()))\n",
    "\n",
    "        \n"
   ]
  },
  {
   "cell_type": "markdown",
   "metadata": {},
   "source": [
    "Below is an example of a 3 qubit circuit with the X, H, and CNOT gates applied sequentially. "
   ]
  },
  {
   "cell_type": "code",
   "execution_count": 5,
   "metadata": {},
   "outputs": [
    {
     "name": "stdout",
     "output_type": "stream",
     "text": [
      "[ 0.70710678  0.          0.          0.          0.          0.\n",
      " -0.70710678  0.        ]\n"
     ]
    }
   ],
   "source": [
    "num_qubits = 3\n",
    "statevector = init_sv(num_qubits)\n",
    "statevector = operate_on_sv(X, 1, statevector)\n",
    "statevector = operate_on_sv(H, 1, statevector)\n",
    "statevector = operate_on_sv(CNOT, [1, 2], statevector)\n",
    "print(statevector)"
   ]
  },
  {
   "cell_type": "markdown",
   "metadata": {},
   "source": [
    "In order to be able to plot the runtime of performing an initialization and X, H, and CNOT gates as a function of the number of qubits, a function was needed to perform the different operations and capture the runtime and variables used during the tests. While each qubit is initialized to zero (statevector[0] is 1 with the rest 0s), the qubits involved in the operations are random. The same qubit can be used in multiple operations, but the control and target qubit are unique. \n",
    "\n",
    "If additional, more comprehensive results are needed, this function could be modified to average over a specified number of shots per qubit."
   ]
  },
  {
   "cell_type": "code",
   "execution_count": 6,
   "metadata": {},
   "outputs": [],
   "source": [
    "def run_sv_experiment(num_qubits: int) -> tuple[float, int, int, int, int]:\n",
    "    \"\"\"Runs the predetermined experiment of X, H, and CNOT operations.\n",
    "    The time it takes to run the operations is saved and returned\n",
    "    \n",
    "    Args:\n",
    "        num_qubits: how many qubits to use with the experiment\n",
    "        \n",
    "    Returns:\n",
    "        Time in seconds it took to run the operations\n",
    "    \"\"\"\n",
    "\n",
    "    # determine X, H, control, and target qubits at random before starting\n",
    "    control_qubit, target_qubit = np.random.choice(range(1, num_qubits+1), size=2, replace=False)\n",
    "    x_qubit = np.random.choice(range(1, num_qubits+1), size=1)\n",
    "    h_qubit = np.random.choice(range(1, num_qubits+1), size=1)\n",
    "    \n",
    "    start_time = time.time()\n",
    "    statevector = init_sv(num_qubits)\n",
    "    statevector = operate_on_sv(X, x_qubit, statevector)\n",
    "    statevector = operate_on_sv(H, h_qubit, statevector)\n",
    "    statevector = operate_on_sv(CNOT, [control_qubit,target_qubit], statevector)\n",
    "    return(time.time()-start_time, x_qubit, h_qubit, control_qubit, target_qubit)"
   ]
  },
  {
   "cell_type": "markdown",
   "metadata": {},
   "source": [
    "With the experiment function defined, I first did testing to determine how many qubits could the system handle. I found that at 16 qubits, the Python kernel consistently crashed. Therefore, the experiments below are for qubit counts of 2 to 15. The results are printed in an easy to read format."
   ]
  },
  {
   "cell_type": "code",
   "execution_count": 7,
   "metadata": {},
   "outputs": [
    {
     "name": "stdout",
     "output_type": "stream",
     "text": [
      "2 qubits - 0.0003838539123535156 seconds\n",
      "3 qubits - 0.00021004676818847656 seconds\n",
      "4 qubits - 0.0001461505889892578 seconds\n",
      "5 qubits - 0.0004730224609375 seconds\n",
      "6 qubits - 0.0003638267517089844 seconds\n",
      "7 qubits - 0.0018322467803955078 seconds\n",
      "8 qubits - 0.0035858154296875 seconds\n",
      "9 qubits - 0.01675581932067871 seconds\n",
      "10 qubits - 0.07144713401794434 seconds\n",
      "11 qubits - 0.16494488716125488 seconds\n",
      "12 qubits - 0.5663979053497314 seconds\n",
      "13 qubits - 2.5202512741088867 seconds\n",
      "14 qubits - 10.65863585472107 seconds\n",
      "15 qubits - 46.343027114868164 seconds\n"
     ]
    }
   ],
   "source": [
    "sv_results = {}\n",
    "\n",
    "# Starting at 16 qubits the kernel crashes \n",
    "for num_qubits in range(2, 16):\n",
    "    sv_results[num_qubits] = run_sv_experiment(num_qubits)\n",
    "\n",
    "\n",
    "for qubit, result in sv_results.items():\n",
    "    print(f\"{qubit} qubits - {result[0]} seconds\")"
   ]
  },
  {
   "cell_type": "code",
   "execution_count": 8,
   "metadata": {},
   "outputs": [
    {
     "data": {
      "text/plain": [
       "Text(0.5, 1.0, 'Runtime of operations with a state vector as a function of number of qubits')"
      ]
     },
     "execution_count": 8,
     "metadata": {},
     "output_type": "execute_result"
    },
    {
     "data": {
      "image/png": "[encoded data removed]",
      "text/plain": [
       "<Figure size 640x480 with 1 Axes>"
      ]
     },
     "metadata": {},
     "output_type": "display_data"
    }
   ],
   "source": [
    "#Retrieve the qubits and runtimes for plotting\n",
    "qubits = list(sv_results.keys())\n",
    "runtimes = [sv_results[n][0] for n in qubits]\n",
    "\n",
    "# Plotting the data\n",
    "plt.plot(qubits, runtimes, marker='o', linestyle='-', color='b')\n",
    "\n",
    "# Adding labels and title\n",
    "plt.xlabel('Number of Qubits')\n",
    "plt.ylabel('Runtime (seconds)')\n",
    "plt.title('Runtime of operations with a state vector as a function of number of qubits')"
   ]
  },
  {
   "cell_type": "markdown",
   "metadata": {},
   "source": [
    "Above is the plot of runtime of the operations as a function of the number of qubits. As mentioned previously, at 16 qubits the Python kernel crashes. "
   ]
  },
  {
   "cell_type": "markdown",
   "metadata": {},
   "source": [
    "## State Tensor\n",
    "In this section, the code below uses a tensor to respresent the state while initializing qubits and performing X, H, and CNOT gates. The functionality is split into multiple components and error handling is included. Example printouts are provided during the process as evidence of the expected results."
   ]
  },
  {
   "cell_type": "markdown",
   "metadata": {},
   "source": [
    "The initialization for the tensor and setting it to zero are a little different due to the different shape of the tensor."
   ]
  },
  {
   "cell_type": "code",
   "execution_count": 9,
   "metadata": {},
   "outputs": [],
   "source": [
    "def init_tensor(num_qubits: int) -> np.array:\n",
    "    \"\"\"Initialize the state vector and set the value to zero\"\"\"\n",
    "    st = np.zeros((2,)*num_qubits)\n",
    "    # init state vector to 0\n",
    "    st[(0,)*num_qubits] = 1\n",
    "    return st"
   ]
  },
  {
   "cell_type": "markdown",
   "metadata": {},
   "source": [
    "The function below performs the X, H, and CNOT operations on a provided state tensor. Error handling is included to ensure that the qubit(s) being acted upon is(are) valid. The tensor shape allows for unique handling of the CNOT operation. Using `moveaxis` and `reshape` we are able to manipulate the system so that CNOT matrix can be applied to the appropriate qubits followed by `reshape` and `moveaxis` to put manipulate the system back. "
   ]
  },
  {
   "cell_type": "code",
   "execution_count": 10,
   "metadata": {},
   "outputs": [],
   "source": [
    "def tensor_operation(operation, qubits, state_tensor: np.array) -> np.array:\n",
    "    \"\"\"Performs the operation on the tensor representation \n",
    "\n",
    "    Args:\n",
    "        operation: Operation to perform\n",
    "        qubits: an int or list of ints representing the qubits to be acted on\n",
    "        state_tensor: current state in tensor form\n",
    "\n",
    "    Returns:\n",
    "        The new state as a vector after the operation\n",
    "    \"\"\"\n",
    "    qubits = [qubits] if isinstance(qubits, int) else qubits\n",
    "\n",
    "    total_number_qubits = len(np.shape(state_tensor))\n",
    "\n",
    "    # Handle error cases\n",
    "    if len(qubits) > 2:\n",
    "        raise AttributeError(\"qubits can contain at max 2 values\")\n",
    "    elif(len(qubits) == 2 and not np.array_equal(operation, CNOT)):\n",
    "        raise AttributeError(\"only 2 qubit gate is CNOT\")\n",
    "    elif(not all(q in range(1, total_number_qubits+1) for q in qubits)):\n",
    "        raise AttributeError(\"Qubits to act upon are not valid. If an operation acts upon a single \\\n",
    "                             qubit please enter an integer. If the operation acts on two qubit, \\\n",
    "                             include a list of integers with the first integer being the control and \\\n",
    "                             the second integer being the target.\")\n",
    "\n",
    "    # Handle CNOT case\n",
    "    elif(len(qubits) == 2):\n",
    "        temp_state_tensor = np.moveaxis(state_tensor, [qubits[0]-1, qubits[1]-1], [0, 1])\n",
    "        shaped_state_tensor = np.reshape(temp_state_tensor, (4,) + (2,)*(temp_state_tensor.ndim-2)) \n",
    "\n",
    "        after_cnot_state = np.tensordot(operation, shaped_state_tensor, axes=([1], [0]))\n",
    "        new_shaped_state = np.reshape(after_cnot_state, (2, 2) + (2,) *(temp_state_tensor.ndim-2))\n",
    "        return np.moveaxis(new_shaped_state, [0,1], [qubits[0]-1, qubits[1]-1])\n",
    "    \n",
    "    # Handle single qubit operations\n",
    "    else:\n",
    "        temp_state_tensor = np.tensordot(operation, state_tensor, axes=(1, qubits[0]-1))\n",
    "        return np.moveaxis(temp_state_tensor, 0, qubits[0]-1)"
   ]
  },
  {
   "cell_type": "markdown",
   "metadata": {},
   "source": [
    "Below is an example of a 3 qubit circuit with the X, H, and CNOT gates applied sequentially. The difference between the vector form and tensor form can be clearly seen with the state tensor that is printed."
   ]
  },
  {
   "cell_type": "code",
   "execution_count": 11,
   "metadata": {},
   "outputs": [
    {
     "name": "stdout",
     "output_type": "stream",
     "text": [
      "[[[ 0.70710678  0.        ]\n",
      "  [ 0.          0.        ]]\n",
      "\n",
      " [[ 0.          0.        ]\n",
      "  [-0.70710678  0.        ]]]\n"
     ]
    }
   ],
   "source": [
    "num_qubits =3\n",
    "state_tensor = init_tensor(num_qubits)\n",
    "state_tensor = tensor_operation(X, 1, state_tensor)\n",
    "state_tensor = tensor_operation(H, 1, state_tensor)\n",
    "state_tensor = tensor_operation(CNOT, [1,2], state_tensor)\n",
    "print(state_tensor)\n"
   ]
  },
  {
   "cell_type": "markdown",
   "metadata": {},
   "source": [
    "In order to be able to plot the runtime of performing an initialization and X, H, and CNOT gates as a function of the number of qubits, a function was needed to perform the different operations and capture the runtime and variables used during the tests. While each qubit is initialized to zero, the qubits involved in the operations are random. The same qubit can be used in multiple operations, but the control and target qubit are unique. \n",
    "\n",
    "If additional, more comprehensive results are needed, this function could be modified to average over a specified number of shots per qubit."
   ]
  },
  {
   "cell_type": "code",
   "execution_count": 12,
   "metadata": {},
   "outputs": [],
   "source": [
    "def run_tensor_experiment(num_qubits: int) -> float:\n",
    "    \"\"\"Runs the predetermined experiment of X, H, and CNOT operations.\n",
    "    The time it takes to run the operations is saved and returned\n",
    "    \n",
    "    Args:\n",
    "        num_qubits: how many qubits to use with the experiment\n",
    "        \n",
    "    Returns:\n",
    "        Time in seconds it took to run the operations\n",
    "    \"\"\"\n",
    "\n",
    "    # determine control and target qubits at random before starting\n",
    "    control_qubit, target_qubit = np.random.choice(range(1, num_qubits+1), size=2, replace=False)\n",
    "    x_qubit = np.random.choice(range(1, num_qubits+1), size=1)\n",
    "    h_qubit = np.random.choice(range(1, num_qubits+1), size=1)\n",
    "    start_time = time.time()\n",
    "    state_tensor = init_tensor(num_qubits)\n",
    "    state_tensor = tensor_operation(X, x_qubit, state_tensor)\n",
    "    state_tensor = tensor_operation(H, h_qubit, state_tensor)\n",
    "    state_tensor = tensor_operation(CNOT, [control_qubit, target_qubit], state_tensor)\n",
    "    return time.time()-start_time, control_qubit, target_qubit\n",
    "    "
   ]
  },
  {
   "cell_type": "markdown",
   "metadata": {},
   "source": [
    "With the experiment function defined, I first did testing to determine how many qubits could the system handle using tensors. I found that at 32 qubits, the Python kernel consistently crashed. Therefore, the experiments below are for qubit counts of 2 to 31. The results are printed in an easy to read format."
   ]
  },
  {
   "cell_type": "code",
   "execution_count": 13,
   "metadata": {},
   "outputs": [
    {
     "name": "stdout",
     "output_type": "stream",
     "text": [
      "2 qubits - 0.0002701282501220703 seconds\n",
      "3 qubits - 6.985664367675781e-05 seconds\n",
      "4 qubits - 5.602836608886719e-05 seconds\n",
      "5 qubits - 5.2928924560546875e-05 seconds\n",
      "6 qubits - 5.888938903808594e-05 seconds\n",
      "7 qubits - 0.0004589557647705078 seconds\n",
      "8 qubits - 0.0007369518280029297 seconds\n",
      "9 qubits - 0.00021910667419433594 seconds\n",
      "10 qubits - 0.0003390312194824219 seconds\n",
      "11 qubits - 9.393692016601562e-05 seconds\n",
      "12 qubits - 8.487701416015625e-05 seconds\n",
      "13 qubits - 0.00017404556274414062 seconds\n",
      "14 qubits - 0.00012302398681640625 seconds\n",
      "15 qubits - 0.0003018379211425781 seconds\n",
      "16 qubits - 0.0003490447998046875 seconds\n",
      "17 qubits - 0.06942582130432129 seconds\n",
      "18 qubits - 0.026070117950439453 seconds\n",
      "19 qubits - 0.0036499500274658203 seconds\n",
      "20 qubits - 0.007859945297241211 seconds\n",
      "21 qubits - 0.02284383773803711 seconds\n",
      "22 qubits - 0.03483104705810547 seconds\n",
      "23 qubits - 0.11348676681518555 seconds\n",
      "24 qubits - 0.15967297554016113 seconds\n",
      "25 qubits - 0.30428218841552734 seconds\n",
      "26 qubits - 0.5572841167449951 seconds\n",
      "27 qubits - 2.0185821056365967 seconds\n",
      "28 qubits - 6.487188816070557 seconds\n",
      "29 qubits - 18.6008358001709 seconds\n",
      "30 qubits - 35.50987005233765 seconds\n",
      "31 qubits - 87.09974884986877 seconds\n"
     ]
    }
   ],
   "source": [
    "results = {}\n",
    "\n",
    "# Starting at 32 qubits the kernel crashes\n",
    "for num_qubits in range(2, 32):\n",
    "    results[num_qubits] = run_tensor_experiment(num_qubits)\n",
    "\n",
    "for qubit, result in results.items():\n",
    "    print(f\"{qubit} qubits - {result[0]} seconds\")"
   ]
  },
  {
   "cell_type": "code",
   "execution_count": 14,
   "metadata": {},
   "outputs": [
    {
     "data": {
      "text/plain": [
       "Text(0.5, 1.0, 'Runtime of operations with a state tensor as a function of Number of Qubits')"
      ]
     },
     "execution_count": 14,
     "metadata": {},
     "output_type": "execute_result"
    },
    {
     "data": {
      "image/png": "[encoded data removed]",
      "text/plain": [
       "<Figure size 640x480 with 1 Axes>"
      ]
     },
     "metadata": {},
     "output_type": "display_data"
    }
   ],
   "source": [
    "#Retrieve the qubits and runtimes for plotting\n",
    "qubits = list(results.keys())\n",
    "runtimes = [results[n][0] for n in qubits]\n",
    "\n",
    "# Plotting the data\n",
    "plt.plot(qubits, runtimes, marker='o', linestyle='-', color='b')\n",
    "\n",
    "# Adding labels and title\n",
    "plt.xlabel('Number of Qubits')\n",
    "plt.ylabel('Runtime (seconds)')\n",
    "plt.title('Runtime of operations with a state tensor as a function of Number of Qubits')"
   ]
  },
  {
   "cell_type": "markdown",
   "metadata": {},
   "source": [
    "The plot above shows the runtime of the operations in seconds with state tensors as a function of the number of qubits. Again, the Python kernel was able to handle 31 qubits before crashing which is over double the number of qubits (15) that the statevector was able to handle. Both plots look similar in that prior to the last few data points, the runtime is relatively flat across the number of qubits. "
   ]
  },
  {
   "cell_type": "markdown",
   "metadata": {},
   "source": [
    "## Bonus\n",
    "1. For sampling the from the final states, it is possible to use `numpy.random.choice` since it includes a parameter `p` which is an array of the probabilities associated with each entry in paramater `a`. The statevector could easily be turned into a vector of the amplitude probabilities (aka `p`) by squaring the values. The `a` parameter would simply be the range from 0 to the 2^n-1. Luckily, `numpy.random.choice` includes the `size` parameter which can be used as the number of `shots`. For a tensor, you could reshape it to a statevector and then sample from it.\n",
    "\n",
    "2. For the statevector it would be relatively easy to change the function to produce an expectation value instead of a new statevector. If we changed the functions, the general idea for the state vector would be `np.dot(statevector_dagger, np.dot(operation, statevector))`. If the question however is asking about getting an expectation value from the final results after the X, H, and CNOT, it would be more complicated. If we were able to generate the operation matrix for all three of the operations combined, then we could follow the same general idea but that would be much more difficult. Again, for the tensor form, it would probably be easiest to reshape and flatten it to use a similar method as the statevector."
   ]
  },
  {
   "cell_type": "markdown",
   "metadata": {},
   "source": [
    "**RESOURCES**:\n",
    "The Numpy API reference, wikipedia, ChatGPT, and Gemini were used as resources in completing this project."
   ]
  },
  {
   "cell_type": "markdown",
   "metadata": {},
   "source": []
  }
 ],
 "metadata": {
  "kernelspec": {
   "display_name": "mitiqMain",
   "language": "python",
   "name": "python3"
  },
  "language_info": {
   "codemirror_mode": {
    "name": "ipython",
    "version": 3
   },
   "file_extension": ".py",
   "mimetype": "text/x-python",
   "name": "python",
   "nbconvert_exporter": "python",
   "pygments_lexer": "ipython3",
   "version": "3.12.7"
  }
 },
 "nbformat": 4,
 "nbformat_minor": 2
}
