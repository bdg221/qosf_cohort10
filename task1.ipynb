{
 "cells": [
  {
   "cell_type": "code",
   "execution_count": 1,
   "metadata": {},
   "outputs": [],
   "source": [
    "import numpy as np\n",
    "import time\n",
    "import matplotlib.pyplot as plt"
   ]
  },
  {
   "cell_type": "code",
   "execution_count": 2,
   "metadata": {},
   "outputs": [],
   "source": [
    "I = np.array([[1, 0],[0,1]])\n",
    "X = np.array([[0,1],[1,0]])\n",
    "H = (1/(np.sqrt(2))) * np.array([[1,1], [1, -1]])\n",
    "CNOT = np.array([[1, 0, 0, 0],[0, 1, 0, 0], [0, 0, 0, 1], [0, 0, 1, 0]])\n",
    "\n",
    "# Projector matrices for CNOTs\n",
    "P0 = np.array([[1, 0],[0,0]])\n",
    "P1 = np.array([[0, 0],[0,1]])"
   ]
  },
  {
   "cell_type": "code",
   "execution_count": 3,
   "metadata": {},
   "outputs": [],
   "source": [
    "def init_sv(num_qubits: int) -> np.array:\n",
    "    \"\"\"Initialize the state vector and set the value to zero\"\"\"\n",
    "    sv = np.zeros(2**num_qubits)\n",
    "    # init state vector to 0\n",
    "    sv[0] = 1\n",
    "    return sv\n",
    "\n",
    "def operate_on_sv(operation, qubits, statevector: np.array) -> np.array:\n",
    "    \"\"\"Performs the operation on the statevector \n",
    "\n",
    "    Args:\n",
    "        operation: Operation to perform\n",
    "        qubits: an int or list of ints representing the qubits to be acted on\n",
    "        statevector: current statevector\n",
    "\n",
    "    Returns:\n",
    "        The new statevector after the operation\n",
    "    \"\"\"\n",
    "    qubits = [qubits] if isinstance(qubits, int) else qubits\n",
    "\n",
    "    total_number_qubits = int(np.log2(len(statevector)))\n",
    "\n",
    "    # Handle error cases\n",
    "    if len(qubits) > 2:\n",
    "        raise AttributeError(\"qubits can contain at max 2 values\")\n",
    "    elif(len(qubits) == 2 and not np.array_equal(operation, CNOT)):\n",
    "        raise AttributeError(\"only 2 qubit gate is CNOT\")\n",
    "    elif(not all(q in range(1, total_number_qubits+1) for q in qubits)):\n",
    "        raise AttributeError(\"Qubits to act upon are not valid. If an operation acts upon a single qubit please enter an integer. If the operation acts on two qubit, include a list of integers with the first integer being the control and the second integer being the target.\")\n",
    "\n",
    "    # Handle CNOT case\n",
    "    elif(len(qubits) == 2):\n",
    "        control_is_zero = []\n",
    "        control_is_one = []\n",
    "        for i in range(1, total_number_qubits+1):\n",
    "            # control qubit\n",
    "            if i == qubits[0]:\n",
    "                control_is_zero.append(P0)\n",
    "                control_is_one.append(P1)\n",
    "            # target qubit\n",
    "            elif i == qubits[1]:\n",
    "                control_is_zero.append(I)\n",
    "                control_is_one.append(X)\n",
    "            else:\n",
    "                control_is_zero.append(I)\n",
    "                control_is_one.append(I)\n",
    "        \n",
    "        # Control is zero Kronecker product\n",
    "        control_zero_matrix = np.kron(control_is_zero[0], control_is_zero[1])\n",
    "        for i in range(2, total_number_qubits):\n",
    "            control_zero_matrix = np.kron(control_zero_matrix, control_is_zero[i])\n",
    "\n",
    "        # Control is one Kronecker product\n",
    "        control_one_matrix = np.kron(control_is_one[0], control_is_one[1])\n",
    "        for i in range(2, total_number_qubits):\n",
    "            control_one_matrix = np.kron(control_one_matrix, control_is_one[i])\n",
    "\n",
    "        return np.dot(np.add(control_zero_matrix, control_one_matrix), statevector.transpose())\n",
    "    \n",
    "    # Handle single qubit operations\n",
    "    else:\n",
    "        operation_krons = []\n",
    "        for i in range(1, total_number_qubits+1):\n",
    "            # operation qubit\n",
    "            if i == qubits[0]:\n",
    "                operation_krons.append(operation)\n",
    "            else:\n",
    "                operation_krons.append(I)\n",
    "\n",
    "        # piece together the Kronecker product\n",
    "        operation_matrix = np.kron(operation_krons[0], operation_krons[1])\n",
    "        for i in range(2, total_number_qubits):\n",
    "            operation_matrix = np.kron(operation_matrix, operation_krons[i])\n",
    "\n",
    "        return np.dot(operation_matrix, statevector.transpose())\n",
    "\n",
    "        \n"
   ]
  },
  {
   "cell_type": "code",
   "execution_count": 4,
   "metadata": {},
   "outputs": [
    {
     "name": "stdout",
     "output_type": "stream",
     "text": [
      "[ 0.70710678  0.          0.          0.          0.          0.\n",
      " -0.70710678  0.        ]\n"
     ]
    }
   ],
   "source": [
    "num_qubits = 3\n",
    "statevector = init_sv(num_qubits)\n",
    "statevector = operate_on_sv(X, 1, statevector)\n",
    "statevector = operate_on_sv(H, 1, statevector)\n",
    "statevector = operate_on_sv(CNOT, [1, 2], statevector)\n",
    "print(statevector)"
   ]
  },
  {
   "cell_type": "code",
   "execution_count": 5,
   "metadata": {},
   "outputs": [],
   "source": [
    "def run_sv_experiment(num_qubits: int):\n",
    "    \"\"\"Runs the predetermined experiment of X, H, and CNOT operations.\n",
    "    The time it takes to run the operations is saved and returned\n",
    "    \n",
    "    Args:\n",
    "        num_qubits: how many qubits to use with the experiment\n",
    "        \n",
    "    Returns:\n",
    "        Time in seconds it took to run the operations\n",
    "    \"\"\"\n",
    "\n",
    "    # determine X, H, control, and target qubits at random before starting\n",
    "    control_qubit, target_qubit = np.random.randint(1, num_qubits+1, 2)\n",
    "    x_qubit = np.random.randint(1, num_qubits+1, 1)\n",
    "    h_qubit = np.random.randint(1, num_qubits+1, 1)\n",
    "    start_time = time.time()\n",
    "    statevector = init_sv(num_qubits)\n",
    "    statevector = operate_on_sv(X, x_qubit, statevector)\n",
    "    statevector = operate_on_sv(H, h_qubit, statevector)\n",
    "    statevector = operate_on_sv(CNOT, [control_qubit,target_qubit], statevector)\n",
    "    return(time.time()-start_time, x_qubit, h_qubit, control_qubit, target_qubit)"
   ]
  },
  {
   "cell_type": "code",
   "execution_count": 29,
   "metadata": {},
   "outputs": [
    {
     "name": "stdout",
     "output_type": "stream",
     "text": [
      "2 qubits - 0.00021028518676757812 seconds\n",
      "3 qubits - 0.0001621246337890625 seconds\n",
      "4 qubits - 0.0002548694610595703 seconds\n",
      "5 qubits - 0.0012977123260498047 seconds\n",
      "6 qubits - 0.0006270408630371094 seconds\n",
      "7 qubits - 0.01783466339111328 seconds\n",
      "8 qubits - 0.012953042984008789 seconds\n",
      "9 qubits - 0.026276826858520508 seconds\n",
      "10 qubits - 0.03568220138549805 seconds\n",
      "11 qubits - 0.1551649570465088 seconds\n",
      "12 qubits - 0.6112937927246094 seconds\n",
      "13 qubits - 2.5716888904571533 seconds\n",
      "14 qubits - 10.541647911071777 seconds\n",
      "15 qubits - 45.27706599235535 seconds\n"
     ]
    }
   ],
   "source": [
    "sv_results = {}\n",
    "\n",
    "# Starting at 16 qubits the kernel crashes \n",
    "for num_qubits in range(2, 16):\n",
    "    sv_results[num_qubits] = run_sv_experiment(num_qubits)\n",
    "\n",
    "\n",
    "for qubit, result in sv_results.items():\n",
    "    print(f\"{qubit} qubits - {result[0]} seconds\")"
   ]
  },
  {
   "cell_type": "code",
   "execution_count": 30,
   "metadata": {},
   "outputs": [
    {
     "data": {
      "text/plain": [
       "Text(0.5, 1.0, 'Runtime of operations with a state vector as a function of Number of Qubits')"
      ]
     },
     "execution_count": 30,
     "metadata": {},
     "output_type": "execute_result"
    },
    {
     "data": {
      "image/png": "[encoded data removed]",
      "text/plain": [
       "<Figure size 640x480 with 1 Axes>"
      ]
     },
     "metadata": {},
     "output_type": "display_data"
    }
   ],
   "source": [
    "#Retrieve the qubits and runtimes for plotting\n",
    "qubits = list(sv_results.keys())\n",
    "runtimes = [sv_results[n][0] for n in qubits]\n",
    "\n",
    "# Plotting the data\n",
    "plt.plot(qubits, runtimes, marker='o', linestyle='-', color='b')\n",
    "\n",
    "# Adding labels and title\n",
    "plt.xlabel('Number of Qubits')\n",
    "plt.ylabel('Runtime (seconds)')\n",
    "plt.title('Runtime of operations with a state vector as a function of Number of Qubits')"
   ]
  },
  {
   "cell_type": "code",
   "execution_count": 3,
   "metadata": {},
   "outputs": [],
   "source": [
    "def init_tensor(num_qubits: int) -> np.array:\n",
    "    \"\"\"Initialize the state vector and set the value to zero\"\"\"\n",
    "    st = np.zeros((2,)*num_qubits)\n",
    "    # init state vector to 0\n",
    "    st[(0,)*num_qubits] = 1\n",
    "    return st"
   ]
  },
  {
   "cell_type": "code",
   "execution_count": 4,
   "metadata": {},
   "outputs": [],
   "source": [
    "def tensor_operation(operation, qubits, state_tensor: np.array) -> np.array:\n",
    "    \"\"\"Performs the operation on the tensor representation \n",
    "\n",
    "    Args:\n",
    "        operation: Operation to perform\n",
    "        qubits: an int or list of ints representing the qubits to be acted on\n",
    "        state_tensor: current state in tensor form\n",
    "\n",
    "    Returns:\n",
    "        The new state as a vector after the operation\n",
    "    \"\"\"\n",
    "    qubits = [qubits] if isinstance(qubits, int) else qubits\n",
    "\n",
    "    total_number_qubits = len(np.shape(state_tensor))\n",
    "\n",
    "    # Handle error cases\n",
    "    if len(qubits) > 2:\n",
    "        raise AttributeError(\"qubits can contain at max 2 values\")\n",
    "    elif(len(qubits) == 2 and not np.array_equal(operation, CNOT)):\n",
    "        raise AttributeError(\"only 2 qubit gate is CNOT\")\n",
    "    elif(not all(q in range(1, total_number_qubits+1) for q in qubits)):\n",
    "        raise AttributeError(\"Qubits to act upon are not valid. If an operation acts upon a single qubit please enter an integer. If the operation acts on two qubit, include a list of integers with the first integer being the control and the second integer being the target.\")\n",
    "\n",
    "    # Handle CNOT case\n",
    "    elif(len(qubits) == 2):\n",
    "        temp_state_tensor = np.moveaxis(state_tensor, [qubits[0]-1, qubits[1]-1], [0, 1])\n",
    "        shaped_state_tensor = np.reshape(temp_state_tensor, (4,) + (2,)*(temp_state_tensor.ndim-2)) \n",
    "\n",
    "        after_cnot_state = np.tensordot(operation, shaped_state_tensor, axes=([1], [0]))\n",
    "        new_shaped_state = np.reshape(after_cnot_state, (2, 2) + (2,) *(temp_state_tensor.ndim-2))\n",
    "        return np.moveaxis(new_shaped_state, [0,1], [qubits[0]-1, qubits[1]-1])\n",
    "    \n",
    "    # Handle single qubit operations\n",
    "    else:\n",
    "        temp_state_tensor = np.tensordot(operation, state_tensor, axes=(1, qubits[0]-1))\n",
    "        return np.moveaxis(temp_state_tensor, 0, qubits[0]-1)"
   ]
  },
  {
   "cell_type": "code",
   "execution_count": 5,
   "metadata": {},
   "outputs": [
    {
     "name": "stdout",
     "output_type": "stream",
     "text": [
      "[[[ 0.70710678  0.        ]\n",
      "  [ 0.          0.        ]]\n",
      "\n",
      " [[ 0.          0.        ]\n",
      "  [-0.70710678  0.        ]]]\n"
     ]
    }
   ],
   "source": [
    "num_qubits =3\n",
    "state_tensor = init_tensor(num_qubits)\n",
    "state_tensor = tensor_operation(X, 1, state_tensor)\n",
    "state_tensor = tensor_operation(H, 1, state_tensor)\n",
    "state_tensor = tensor_operation(CNOT, [1,2], state_tensor)\n",
    "print(state_tensor)\n"
   ]
  },
  {
   "cell_type": "code",
   "execution_count": 6,
   "metadata": {},
   "outputs": [],
   "source": [
    "def run_tensor_experiment(num_qubits: int) -> float:\n",
    "    \"\"\"Runs the predetermined experiment of X, H, and CNOT operations.\n",
    "    The time it takes to run the operations is saved and returned\n",
    "    \n",
    "    Args:\n",
    "        num_qubits: how many qubits to use with the experiment\n",
    "        \n",
    "    Returns:\n",
    "        Time in seconds it took to run the operations\n",
    "    \"\"\"\n",
    "\n",
    "    # determine control and target qubits at random before starting\n",
    "    control_qubit, target_qubit = np.random.choice(range(1, num_qubits+1), size=2, replace=False)\n",
    "    x_qubit = np.random.choice(range(1, num_qubits+1), 1)\n",
    "    h_qubit = np.random.choice(range(1, num_qubits+1), 1)\n",
    "    start_time = time.time()\n",
    "    state_tensor = init_tensor(num_qubits)\n",
    "    state_tensor = tensor_operation(X, x_qubit, state_tensor)\n",
    "    state_tensor = tensor_operation(H, h_qubit, state_tensor)\n",
    "    state_tensor = tensor_operation(CNOT, [control_qubit, target_qubit], state_tensor)\n",
    "    return time.time()-start_time, control_qubit, target_qubit\n",
    "    "
   ]
  },
  {
   "cell_type": "code",
   "execution_count": 7,
   "metadata": {},
   "outputs": [
    {
     "ename": "ValueError",
     "evalue": "repeated axis in `source` argument",
     "output_type": "error",
     "traceback": [
      "\u001b[0;31m---------------------------------------------------------------------------\u001b[0m",
      "\u001b[0;31mValueError\u001b[0m                                Traceback (most recent call last)",
      "Cell \u001b[0;32mIn[7], line 5\u001b[0m\n\u001b[1;32m      3\u001b[0m \u001b[38;5;66;03m# Starting at 32 qubits the kernel crashes\u001b[39;00m\n\u001b[1;32m      4\u001b[0m \u001b[38;5;28;01mfor\u001b[39;00m num_qubits \u001b[38;5;129;01min\u001b[39;00m \u001b[38;5;28mrange\u001b[39m(\u001b[38;5;241m2\u001b[39m, \u001b[38;5;241m32\u001b[39m):\n\u001b[0;32m----> 5\u001b[0m     results[num_qubits] \u001b[38;5;241m=\u001b[39m \u001b[43mrun_tensor_experiment\u001b[49m\u001b[43m(\u001b[49m\u001b[43mnum_qubits\u001b[49m\u001b[43m)\u001b[49m\n\u001b[1;32m      7\u001b[0m \u001b[38;5;28;01mfor\u001b[39;00m qubit, result \u001b[38;5;129;01min\u001b[39;00m results\u001b[38;5;241m.\u001b[39mitems():\n\u001b[1;32m      8\u001b[0m     \u001b[38;5;28mprint\u001b[39m(\u001b[38;5;124mf\u001b[39m\u001b[38;5;124m\"\u001b[39m\u001b[38;5;132;01m{\u001b[39;00mqubit\u001b[38;5;132;01m}\u001b[39;00m\u001b[38;5;124m qubits - \u001b[39m\u001b[38;5;132;01m{\u001b[39;00mresult[\u001b[38;5;241m0\u001b[39m]\u001b[38;5;132;01m}\u001b[39;00m\u001b[38;5;124m seconds\u001b[39m\u001b[38;5;124m\"\u001b[39m)\n",
      "Cell \u001b[0;32mIn[6], line 20\u001b[0m, in \u001b[0;36mrun_tensor_experiment\u001b[0;34m(num_qubits)\u001b[0m\n\u001b[1;32m     18\u001b[0m state_tensor \u001b[38;5;241m=\u001b[39m tensor_operation(X, x_qubit, state_tensor)\n\u001b[1;32m     19\u001b[0m state_tensor \u001b[38;5;241m=\u001b[39m tensor_operation(H, h_qubit, state_tensor)\n\u001b[0;32m---> 20\u001b[0m state_tensor \u001b[38;5;241m=\u001b[39m \u001b[43mtensor_operation\u001b[49m\u001b[43m(\u001b[49m\u001b[43mCNOT\u001b[49m\u001b[43m,\u001b[49m\u001b[43m \u001b[49m\u001b[43m[\u001b[49m\u001b[43mcontrol_qubit\u001b[49m\u001b[43m,\u001b[49m\u001b[43m \u001b[49m\u001b[43mtarget_qubit\u001b[49m\u001b[43m]\u001b[49m\u001b[43m,\u001b[49m\u001b[43m \u001b[49m\u001b[43mstate_tensor\u001b[49m\u001b[43m)\u001b[49m\n\u001b[1;32m     21\u001b[0m \u001b[38;5;28;01mreturn\u001b[39;00m time\u001b[38;5;241m.\u001b[39mtime()\u001b[38;5;241m-\u001b[39mstart_time, control_qubit, target_qubit\n",
      "Cell \u001b[0;32mIn[4], line 26\u001b[0m, in \u001b[0;36mtensor_operation\u001b[0;34m(operation, qubits, state_tensor)\u001b[0m\n\u001b[1;32m     24\u001b[0m \u001b[38;5;66;03m# Handle CNOT case\u001b[39;00m\n\u001b[1;32m     25\u001b[0m \u001b[38;5;28;01melif\u001b[39;00m(\u001b[38;5;28mlen\u001b[39m(qubits) \u001b[38;5;241m==\u001b[39m \u001b[38;5;241m2\u001b[39m):\n\u001b[0;32m---> 26\u001b[0m     temp_state_tensor \u001b[38;5;241m=\u001b[39m \u001b[43mnp\u001b[49m\u001b[38;5;241;43m.\u001b[39;49m\u001b[43mmoveaxis\u001b[49m\u001b[43m(\u001b[49m\u001b[43mstate_tensor\u001b[49m\u001b[43m,\u001b[49m\u001b[43m \u001b[49m\u001b[43m[\u001b[49m\u001b[43mqubits\u001b[49m\u001b[43m[\u001b[49m\u001b[38;5;241;43m0\u001b[39;49m\u001b[43m]\u001b[49m\u001b[38;5;241;43m-\u001b[39;49m\u001b[38;5;241;43m1\u001b[39;49m\u001b[43m,\u001b[49m\u001b[43m \u001b[49m\u001b[43mqubits\u001b[49m\u001b[43m[\u001b[49m\u001b[38;5;241;43m1\u001b[39;49m\u001b[43m]\u001b[49m\u001b[38;5;241;43m-\u001b[39;49m\u001b[38;5;241;43m1\u001b[39;49m\u001b[43m]\u001b[49m\u001b[43m,\u001b[49m\u001b[43m \u001b[49m\u001b[43m[\u001b[49m\u001b[38;5;241;43m0\u001b[39;49m\u001b[43m,\u001b[49m\u001b[43m \u001b[49m\u001b[38;5;241;43m1\u001b[39;49m\u001b[43m]\u001b[49m\u001b[43m)\u001b[49m\n\u001b[1;32m     27\u001b[0m     shaped_state_tensor \u001b[38;5;241m=\u001b[39m np\u001b[38;5;241m.\u001b[39mreshape(temp_state_tensor, (\u001b[38;5;241m4\u001b[39m,) \u001b[38;5;241m+\u001b[39m (\u001b[38;5;241m2\u001b[39m,)\u001b[38;5;241m*\u001b[39m(temp_state_tensor\u001b[38;5;241m.\u001b[39mndim\u001b[38;5;241m-\u001b[39m\u001b[38;5;241m2\u001b[39m)) \n\u001b[1;32m     29\u001b[0m     after_cnot_state \u001b[38;5;241m=\u001b[39m np\u001b[38;5;241m.\u001b[39mtensordot(operation, shaped_state_tensor, axes\u001b[38;5;241m=\u001b[39m([\u001b[38;5;241m1\u001b[39m], [\u001b[38;5;241m0\u001b[39m]))\n",
      "File \u001b[0;32m~/anaconda3/envs/mitiqMain/lib/python3.12/site-packages/numpy/core/numeric.py:1449\u001b[0m, in \u001b[0;36mmoveaxis\u001b[0;34m(a, source, destination)\u001b[0m\n\u001b[1;32m   1446\u001b[0m     a \u001b[38;5;241m=\u001b[39m asarray(a)\n\u001b[1;32m   1447\u001b[0m     transpose \u001b[38;5;241m=\u001b[39m a\u001b[38;5;241m.\u001b[39mtranspose\n\u001b[0;32m-> 1449\u001b[0m source \u001b[38;5;241m=\u001b[39m \u001b[43mnormalize_axis_tuple\u001b[49m\u001b[43m(\u001b[49m\u001b[43msource\u001b[49m\u001b[43m,\u001b[49m\u001b[43m \u001b[49m\u001b[43ma\u001b[49m\u001b[38;5;241;43m.\u001b[39;49m\u001b[43mndim\u001b[49m\u001b[43m,\u001b[49m\u001b[43m \u001b[49m\u001b[38;5;124;43m'\u001b[39;49m\u001b[38;5;124;43msource\u001b[39;49m\u001b[38;5;124;43m'\u001b[39;49m\u001b[43m)\u001b[49m\n\u001b[1;32m   1450\u001b[0m destination \u001b[38;5;241m=\u001b[39m normalize_axis_tuple(destination, a\u001b[38;5;241m.\u001b[39mndim, \u001b[38;5;124m'\u001b[39m\u001b[38;5;124mdestination\u001b[39m\u001b[38;5;124m'\u001b[39m)\n\u001b[1;32m   1451\u001b[0m \u001b[38;5;28;01mif\u001b[39;00m \u001b[38;5;28mlen\u001b[39m(source) \u001b[38;5;241m!=\u001b[39m \u001b[38;5;28mlen\u001b[39m(destination):\n",
      "File \u001b[0;32m~/anaconda3/envs/mitiqMain/lib/python3.12/site-packages/numpy/core/numeric.py:1383\u001b[0m, in \u001b[0;36mnormalize_axis_tuple\u001b[0;34m(axis, ndim, argname, allow_duplicate)\u001b[0m\n\u001b[1;32m   1381\u001b[0m \u001b[38;5;28;01mif\u001b[39;00m \u001b[38;5;129;01mnot\u001b[39;00m allow_duplicate \u001b[38;5;129;01mand\u001b[39;00m \u001b[38;5;28mlen\u001b[39m(\u001b[38;5;28mset\u001b[39m(axis)) \u001b[38;5;241m!=\u001b[39m \u001b[38;5;28mlen\u001b[39m(axis):\n\u001b[1;32m   1382\u001b[0m     \u001b[38;5;28;01mif\u001b[39;00m argname:\n\u001b[0;32m-> 1383\u001b[0m         \u001b[38;5;28;01mraise\u001b[39;00m \u001b[38;5;167;01mValueError\u001b[39;00m(\u001b[38;5;124m'\u001b[39m\u001b[38;5;124mrepeated axis in `\u001b[39m\u001b[38;5;132;01m{}\u001b[39;00m\u001b[38;5;124m` argument\u001b[39m\u001b[38;5;124m'\u001b[39m\u001b[38;5;241m.\u001b[39mformat(argname))\n\u001b[1;32m   1384\u001b[0m     \u001b[38;5;28;01melse\u001b[39;00m:\n\u001b[1;32m   1385\u001b[0m         \u001b[38;5;28;01mraise\u001b[39;00m \u001b[38;5;167;01mValueError\u001b[39;00m(\u001b[38;5;124m'\u001b[39m\u001b[38;5;124mrepeated axis\u001b[39m\u001b[38;5;124m'\u001b[39m)\n",
      "\u001b[0;31mValueError\u001b[0m: repeated axis in `source` argument"
     ]
    }
   ],
   "source": [
    "results = {}\n",
    "\n",
    "# Starting at 32 qubits the kernel crashes\n",
    "for num_qubits in range(2, 32):\n",
    "    results[num_qubits] = run_tensor_experiment(num_qubits)\n",
    "\n",
    "for qubit, result in results.items():\n",
    "    print(f\"{qubit} qubits - {result[0]} seconds\")"
   ]
  },
  {
   "cell_type": "code",
   "execution_count": null,
   "metadata": {},
   "outputs": [],
   "source": [
    "results"
   ]
  },
  {
   "cell_type": "code",
   "execution_count": null,
   "metadata": {},
   "outputs": [],
   "source": []
  }
 ],
 "metadata": {
  "kernelspec": {
   "display_name": "mitiqMain",
   "language": "python",
   "name": "python3"
  },
  "language_info": {
   "codemirror_mode": {
    "name": "ipython",
    "version": 3
   },
   "file_extension": ".py",
   "mimetype": "text/x-python",
   "name": "python",
   "nbconvert_exporter": "python",
   "pygments_lexer": "ipython3",
   "version": "3.12.7"
  }
 },
 "nbformat": 4,
 "nbformat_minor": 2
}
